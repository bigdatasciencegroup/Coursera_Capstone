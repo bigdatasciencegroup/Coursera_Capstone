{
    "nbformat_minor": 1, 
    "cells": [
        {
            "source": "# Segmenting and Clustering Neighborhoods in Toronto  \n## Capstone Week 3 Assignment: Applied Data Science Capstone\n### Luciano Guerra Dom\u00ednguez", 
            "cell_type": "markdown", 
            "metadata": {}
        }, 
        {
            "source": "## 1.- Scrape Wikipedia and customize a Dataframe with Pandas ", 
            "cell_type": "markdown", 
            "metadata": {}
        }, 
        {
            "source": "Import the library we use to open URLs", 
            "cell_type": "markdown", 
            "metadata": {}
        }, 
        {
            "source": "import urllib.request\nimport pandas as pd\npd.set_option('display.max_columns', None)\npd.set_option('display.max_rows', None)\n# import the BeautifulSoup library so we can parse HTML and XML documents\nfrom bs4 import BeautifulSoup", 
            "cell_type": "code", 
            "metadata": {}, 
            "outputs": [], 
            "execution_count": 77
        }, 
        {
            "source": "#### Specify which URL/web page we are going to be scraping", 
            "cell_type": "markdown", 
            "metadata": {}
        }, 
        {
            "source": "url = \"https://en.wikipedia.org/wiki/List_of_postal_codes_of_Canada:_M\"", 
            "cell_type": "code", 
            "metadata": {}, 
            "outputs": [], 
            "execution_count": 78
        }, 
        {
            "source": "####  Open the url using urllib.request and put the HTML into the page variable", 
            "cell_type": "markdown", 
            "metadata": {}
        }, 
        {
            "source": "page = urllib.request.urlopen(url)", 
            "cell_type": "code", 
            "metadata": {}, 
            "outputs": [], 
            "execution_count": 79
        }, 
        {
            "source": "####  Parse the HTML from our URL into the BeautifulSoup parse tree format", 
            "cell_type": "markdown", 
            "metadata": {}
        }, 
        {
            "source": "soup = BeautifulSoup(page, \"lxml\")\nsoup.title.string", 
            "cell_type": "code", 
            "metadata": {}, 
            "outputs": [
                {
                    "output_type": "execute_result", 
                    "data": {
                        "text/plain": "'List of postal codes of Canada: M - Wikipedia'"
                    }, 
                    "execution_count": 80, 
                    "metadata": {}
                }
            ], 
            "execution_count": 80
        }, 
        {
            "source": "#### Use the 'find_all' function to bring back all instances of the 'table' tag in the HTML and store in 'all_tables' variable", 
            "cell_type": "markdown", 
            "metadata": {}
        }, 
        {
            "source": "all_tables=soup.find_all(\"table\")\nMy_table=soup.find('table', class_='wikitable sortable')", 
            "cell_type": "code", 
            "metadata": {}, 
            "outputs": [], 
            "execution_count": 81
        }, 
        {
            "source": "#### Define the dataframe columns", 
            "cell_type": "markdown", 
            "metadata": {}
        }, 
        {
            "source": "column_names = ['PostalCode', 'Borough', 'Neighborhood']", 
            "cell_type": "code", 
            "metadata": {}, 
            "outputs": [], 
            "execution_count": 82
        }, 
        {
            "source": "#### Extract information from My_table", 
            "cell_type": "markdown", 
            "metadata": {}
        }, 
        {
            "source": "rows_list = []\nfor tr in My_table.findAll('tr'):\n    tds = tr.findAll('td')\n    if not tds:\n        continue\n    postcode, borough, neighborhood = [td.text.strip() for td in tds[:3]]\n    rows_list.append([postcode, borough, neighborhood])", 
            "cell_type": "code", 
            "metadata": {}, 
            "outputs": [], 
            "execution_count": 83
        }, 
        {
            "source": "#### Create dataframe (without cleaning)", 
            "cell_type": "markdown", 
            "metadata": {}
        }, 
        {
            "source": "postalcodes = pd.DataFrame(rows_list, columns=column_names)", 
            "cell_type": "code", 
            "metadata": {}, 
            "outputs": [], 
            "execution_count": 84
        }, 
        {
            "source": "### Drop rows where 'Borough' == 'Not assigned'", 
            "cell_type": "markdown", 
            "metadata": {}
        }, 
        {
            "source": "indexNames = postalcodes[postalcodes['Borough'] == 'Not assigned'].index\npostalcodes.drop(indexNames, inplace=True)\npostalcodes = postalcodes.reset_index()\ndel postalcodes['index']", 
            "cell_type": "code", 
            "metadata": {
                "scrolled": true
            }, 
            "outputs": [], 
            "execution_count": 85
        }, 
        {
            "source": "### Assign 'Borough' where 'Neighborhood' == Not assigned'", 
            "cell_type": "markdown", 
            "metadata": {}
        }, 
        {
            "source": "postalcodes.loc[postalcodes['Neighborhood'] == ('Not assigned'), 'Neighborhood'] = postalcodes['Borough']\n", 
            "cell_type": "code", 
            "metadata": {}, 
            "outputs": [], 
            "execution_count": 86
        }, 
        {
            "source": "### Combine Neighborhoods in rows with the same PostalCode and Borough", 
            "cell_type": "markdown", 
            "metadata": {}
        }, 
        {
            "source": "postalcodes_group = postalcodes.groupby(['PostalCode', 'Borough'], sort=False).agg(lambda x: ', '.join(x))\npostalcodes_group = postalcodes_group.reset_index()\n", 
            "cell_type": "code", 
            "metadata": {}, 
            "outputs": [], 
            "execution_count": 87
        }, 
        {
            "source": "### Show the first 20 rows from the new DataFrame", 
            "cell_type": "markdown", 
            "metadata": {}
        }, 
        {
            "source": "postalcodes_group.head(20)\n", 
            "cell_type": "code", 
            "metadata": {}, 
            "outputs": [
                {
                    "output_type": "execute_result", 
                    "data": {
                        "text/plain": "   PostalCode           Borough  \\\n0         M3A        North York   \n1         M4A        North York   \n2         M5A  Downtown Toronto   \n3         M6A        North York   \n4         M7A      Queen's Park   \n5         M9A         Etobicoke   \n6         M1B       Scarborough   \n7         M3B        North York   \n8         M4B         East York   \n9         M5B  Downtown Toronto   \n10        M6B        North York   \n11        M9B         Etobicoke   \n12        M1C       Scarborough   \n13        M3C        North York   \n14        M4C         East York   \n15        M5C  Downtown Toronto   \n16        M6C              York   \n17        M9C         Etobicoke   \n18        M1E       Scarborough   \n19        M4E      East Toronto   \n\n                                         Neighborhood  \n0                                           Parkwoods  \n1                                    Victoria Village  \n2                           Harbourfront, Regent Park  \n3                    Lawrence Heights, Lawrence Manor  \n4                                        Queen's Park  \n5                                    Islington Avenue  \n6                                      Rouge, Malvern  \n7                                     Don Mills North  \n8                     Woodbine Gardens, Parkview Hill  \n9                            Ryerson, Garden District  \n10                                          Glencairn  \n11  Cloverdale, Islington, Martin Grove, Princess ...  \n12             Highland Creek, Rouge Hill, Port Union  \n13                   Flemingdon Park, Don Mills South  \n14                                   Woodbine Heights  \n15                                     St. James Town  \n16                                 Humewood-Cedarvale  \n17  Bloordale Gardens, Eringate, Markland Wood, Ol...  \n18                  Guildwood, Morningside, West Hill  \n19                                        The Beaches  ", 
                        "text/html": "<div>\n<style scoped>\n    .dataframe tbody tr th:only-of-type {\n        vertical-align: middle;\n    }\n\n    .dataframe tbody tr th {\n        vertical-align: top;\n    }\n\n    .dataframe thead th {\n        text-align: right;\n    }\n</style>\n<table border=\"1\" class=\"dataframe\">\n  <thead>\n    <tr style=\"text-align: right;\">\n      <th></th>\n      <th>PostalCode</th>\n      <th>Borough</th>\n      <th>Neighborhood</th>\n    </tr>\n  </thead>\n  <tbody>\n    <tr>\n      <th>0</th>\n      <td>M3A</td>\n      <td>North York</td>\n      <td>Parkwoods</td>\n    </tr>\n    <tr>\n      <th>1</th>\n      <td>M4A</td>\n      <td>North York</td>\n      <td>Victoria Village</td>\n    </tr>\n    <tr>\n      <th>2</th>\n      <td>M5A</td>\n      <td>Downtown Toronto</td>\n      <td>Harbourfront, Regent Park</td>\n    </tr>\n    <tr>\n      <th>3</th>\n      <td>M6A</td>\n      <td>North York</td>\n      <td>Lawrence Heights, Lawrence Manor</td>\n    </tr>\n    <tr>\n      <th>4</th>\n      <td>M7A</td>\n      <td>Queen's Park</td>\n      <td>Queen's Park</td>\n    </tr>\n    <tr>\n      <th>5</th>\n      <td>M9A</td>\n      <td>Etobicoke</td>\n      <td>Islington Avenue</td>\n    </tr>\n    <tr>\n      <th>6</th>\n      <td>M1B</td>\n      <td>Scarborough</td>\n      <td>Rouge, Malvern</td>\n    </tr>\n    <tr>\n      <th>7</th>\n      <td>M3B</td>\n      <td>North York</td>\n      <td>Don Mills North</td>\n    </tr>\n    <tr>\n      <th>8</th>\n      <td>M4B</td>\n      <td>East York</td>\n      <td>Woodbine Gardens, Parkview Hill</td>\n    </tr>\n    <tr>\n      <th>9</th>\n      <td>M5B</td>\n      <td>Downtown Toronto</td>\n      <td>Ryerson, Garden District</td>\n    </tr>\n    <tr>\n      <th>10</th>\n      <td>M6B</td>\n      <td>North York</td>\n      <td>Glencairn</td>\n    </tr>\n    <tr>\n      <th>11</th>\n      <td>M9B</td>\n      <td>Etobicoke</td>\n      <td>Cloverdale, Islington, Martin Grove, Princess ...</td>\n    </tr>\n    <tr>\n      <th>12</th>\n      <td>M1C</td>\n      <td>Scarborough</td>\n      <td>Highland Creek, Rouge Hill, Port Union</td>\n    </tr>\n    <tr>\n      <th>13</th>\n      <td>M3C</td>\n      <td>North York</td>\n      <td>Flemingdon Park, Don Mills South</td>\n    </tr>\n    <tr>\n      <th>14</th>\n      <td>M4C</td>\n      <td>East York</td>\n      <td>Woodbine Heights</td>\n    </tr>\n    <tr>\n      <th>15</th>\n      <td>M5C</td>\n      <td>Downtown Toronto</td>\n      <td>St. James Town</td>\n    </tr>\n    <tr>\n      <th>16</th>\n      <td>M6C</td>\n      <td>York</td>\n      <td>Humewood-Cedarvale</td>\n    </tr>\n    <tr>\n      <th>17</th>\n      <td>M9C</td>\n      <td>Etobicoke</td>\n      <td>Bloordale Gardens, Eringate, Markland Wood, Ol...</td>\n    </tr>\n    <tr>\n      <th>18</th>\n      <td>M1E</td>\n      <td>Scarborough</td>\n      <td>Guildwood, Morningside, West Hill</td>\n    </tr>\n    <tr>\n      <th>19</th>\n      <td>M4E</td>\n      <td>East Toronto</td>\n      <td>The Beaches</td>\n    </tr>\n  </tbody>\n</table>\n</div>"
                    }, 
                    "execution_count": 90, 
                    "metadata": {}
                }
            ], 
            "execution_count": 90
        }, 
        {
            "source": "\nsortedDF = pd.DataFrame(columns=['Postcode', 'Borough', 'Neighbourhood'])\nsortedDF['Postcode'] = df['Postcode'].unique()\nnewDF = df.groupby(by=['Postcode', 'Borough'])\n#for postunique in df['Postcode']:    \n    #sortedDF[postunique].\n    #print(postunique)\n#sortedDF.head()\n", 
            "cell_type": "code", 
            "metadata": {}, 
            "outputs": [], 
            "execution_count": 89
        }, 
        {
            "source": "", 
            "cell_type": "code", 
            "metadata": {}, 
            "outputs": [], 
            "execution_count": null
        }
    ], 
    "metadata": {
        "kernelspec": {
            "display_name": "Python 3.5", 
            "name": "python3", 
            "language": "python"
        }, 
        "language_info": {
            "mimetype": "text/x-python", 
            "nbconvert_exporter": "python", 
            "version": "3.5.5", 
            "name": "python", 
            "pygments_lexer": "ipython3", 
            "file_extension": ".py", 
            "codemirror_mode": {
                "version": 3, 
                "name": "ipython"
            }
        }
    }, 
    "nbformat": 4
}