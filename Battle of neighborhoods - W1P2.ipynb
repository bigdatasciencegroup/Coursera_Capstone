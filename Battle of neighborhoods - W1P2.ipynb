{
    "nbformat_minor": 1, 
    "cells": [
        {
            "source": "# Battle of neighborhoods  \n## IBM Data Science Certification - Capstone Project\n#### Author: Luciano Guerra Dom\u00ednguez\n-----  \n\n## Data Section\n\nIn this section, I will describe the data used to solve the problem as described previously.  \n\nI shall obtain the name of all neighborhoods names its location info from the open data website\n- WashingtonNeigh.csv: \"https://opendata.arcgis.com/datasets/c4b0cd43d50949e98e57de9f22b455fc_35.csv\"\n\nThis project would use Foursquare API as its prime data gathering source as it has a database of more than 105 million places, especially their places API which provides the ability to perform location search, location sharing and details about a business. Photos, tips and reviews jolted by Foursquare users can also be used in many productive ways to add value to the results. \n\n1.- Query the FourSqaure website for the top sites in Washington DC.  \n2.- Use the FourSquare API to get supplemental geographical data about the top sites  \n3.- Use the FourSquare API to get top restaurent recommendations closest to each of the top site  \n4.- Use open source Chicago Crime data to provide the user with additional crime data  \n\n\n## Workflow\n\n- Web Scraping and Data Wrangling    \n- Top Trending Places  \n- Extraction and Clustering  \n- Decision Making based on the clustered neighborhoods, Population Distribution, School Ratings, Median House Price Analysis \n- Above, we have done convert addresses into their equivalent latitude and longitude values.\n- Then we will use the Foursquare API to explore neighbourhoods\n- After that, explore function to get the most common venue categories in each neighbourhood, and then use this feature to group the neighbourhoods into clusters\n\nK-means clustering algorithm will be using to complete this task. And the Folium library to visualize the neighbourhoods in Mumbai and Pune and their emerging clusters.\n\n", 
            "cell_type": "markdown", 
            "metadata": {
                "collapsed": true
            }
        }, 
        {
            "source": "import pandas as pd\n", 
            "cell_type": "code", 
            "metadata": {}, 
            "outputs": [], 
            "execution_count": 2
        }, 
        {
            "source": "capitalGainsSchoolDF = pd.read_csv(\"https://opendata.arcgis.com/datasets/7391986890624da8a3db6f9887881a22_0.csv\")\ncrimesDF = pd.read_csv(\"https://datagate.dc.gov/search/open/crimes?daterange=2years&details=true&format=csv\")\n#stateOfWDCDF = pd.read_csv(\"https://opendata.arcgis.com/datasets/98f06d5ce87a4037845eeb50174b8fec_40.csv\")\nneighborhoodLabelsDF = pd.read_csv(\"https://opendata.arcgis.com/datasets/c4b0cd43d50949e98e57de9f22b455fc_35.csv\")\n#parcelPropDF = pd.read_csv(\"https://opendata.arcgis.com/datasets/3cfdb871bf404c32a62935ca175c8faf_0.csv\")\n#DCQuadrantsDF = pd.read_csv(\"https://opendata.arcgis.com/datasets/02923e4697804406b9ee3268a160db99_11.csv\")\nclustersDF = pd.read_csv(\"https://opendata.arcgis.com/datasets/f6c703ebe2534fc3800609a07bad8f5b_17.csv\")", 
            "cell_type": "code", 
            "metadata": {}, 
            "outputs": [], 
            "execution_count": 3
        }
    ], 
    "metadata": {
        "kernelspec": {
            "display_name": "Python 3.5", 
            "name": "python3", 
            "language": "python"
        }, 
        "language_info": {
            "mimetype": "text/x-python", 
            "nbconvert_exporter": "python", 
            "version": "3.5.5", 
            "name": "python", 
            "file_extension": ".py", 
            "pygments_lexer": "ipython3", 
            "codemirror_mode": {
                "version": 3, 
                "name": "ipython"
            }
        }
    }, 
    "nbformat": 4
}