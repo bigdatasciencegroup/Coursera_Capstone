{
    "nbformat_minor": 1, 
    "cells": [
        {
            "source": "# Battle of neighborhoods  \n### Luciano Guerra Dom\u00ednguez\n-----  \n\n## Problem Definition  \n\nMy company has decided to bet on me like executive manager. Because of this, they are going to pay my Executive MBA in the Georgetown University, in Washington DC.  \n\nFor this reason, my family and me will have to move to Washintong and we shall decide which neighborhood is the best for according with our needs.  \n\nWe shall use several tools to validate the best neighborhood checking relevant data like housing prices, incoming rates, population distribution, school ratings, hospital ratings, distance to the University, trending venues...  \n\nIdentifying and understanding the similarities and differences between two chosen neighborhoods to retrieve more insights and to conclude with ease which neighborhood wins over other.  \n\nUnderstanding the similarities and differences between the neighborhoods using Unsupervised K-Mean Clustering Algorithm.  \n\n**Georgetown University:**\n![GC](https://washington-org.s3.amazonaws.com/s3fs-public/styles/article_hero_breakpoints_theme_washington_lg_1x/public/3832348182_a700a0e6dc_o.jpg?itok=MmkEuDyW&timestamp=1465423569 \"Georgetown University Campus\")\n\n", 
            "cell_type": "markdown", 
            "attachments": {}, 
            "metadata": {
                "collapsed": true
            }
        }, 
        {
            "source": "", 
            "cell_type": "code", 
            "metadata": {}, 
            "outputs": [], 
            "execution_count": null
        }
    ], 
    "metadata": {
        "kernelspec": {
            "display_name": "Python 3.5", 
            "name": "python3", 
            "language": "python"
        }, 
        "language_info": {
            "mimetype": "text/x-python", 
            "nbconvert_exporter": "python", 
            "version": "3.5.5", 
            "name": "python", 
            "pygments_lexer": "ipython3", 
            "file_extension": ".py", 
            "codemirror_mode": {
                "version": 3, 
                "name": "ipython"
            }
        }
    }, 
    "nbformat": 4
}